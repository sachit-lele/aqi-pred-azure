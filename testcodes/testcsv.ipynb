{
 "cells": [
  {
   "cell_type": "code",
   "execution_count": 3,
   "metadata": {},
   "outputs": [
    {
     "data": {
      "text/plain": [
       "City        object\n",
       "PM2.5      float64\n",
       "PM10       float64\n",
       "NO         float64\n",
       "NO2        float64\n",
       "NOx        float64\n",
       "NH3        float64\n",
       "CO         float64\n",
       "SO2        float64\n",
       "Toluene    float64\n",
       "Date        object\n",
       "dtype: object"
      ]
     },
     "execution_count": 3,
     "metadata": {},
     "output_type": "execute_result"
    }
   ],
   "source": [
    "#find data types of all columns\n",
    "import pandas as pd\n",
    "df = pd.read_csv('test.csv')\n",
    "df.dtypes"
   ]
  },
  {
   "cell_type": "code",
   "execution_count": 4,
   "metadata": {},
   "outputs": [
    {
     "data": {
      "text/plain": [
       "City               object\n",
       "PM2.5             float64\n",
       "PM10              float64\n",
       "NO                float64\n",
       "NO2               float64\n",
       "NOx               float64\n",
       "NH3               float64\n",
       "CO                float64\n",
       "SO2               float64\n",
       "Toluene           float64\n",
       "Date       datetime64[ns]\n",
       "dtype: object"
      ]
     },
     "execution_count": 4,
     "metadata": {},
     "output_type": "execute_result"
    }
   ],
   "source": [
    "#convert Date column as datetime\n",
    "df['Date'] = pd.to_datetime(df['Date'])\n",
    "df.dtypes"
   ]
  },
  {
   "cell_type": "code",
   "execution_count": 5,
   "metadata": {},
   "outputs": [
    {
     "data": {
      "text/html": [
       "<div>\n",
       "<style scoped>\n",
       "    .dataframe tbody tr th:only-of-type {\n",
       "        vertical-align: middle;\n",
       "    }\n",
       "\n",
       "    .dataframe tbody tr th {\n",
       "        vertical-align: top;\n",
       "    }\n",
       "\n",
       "    .dataframe thead th {\n",
       "        text-align: right;\n",
       "    }\n",
       "</style>\n",
       "<table border=\"1\" class=\"dataframe\">\n",
       "  <thead>\n",
       "    <tr style=\"text-align: right;\">\n",
       "      <th></th>\n",
       "      <th>City</th>\n",
       "      <th>PM2.5</th>\n",
       "      <th>PM10</th>\n",
       "      <th>NO</th>\n",
       "      <th>NO2</th>\n",
       "      <th>NOx</th>\n",
       "      <th>NH3</th>\n",
       "      <th>CO</th>\n",
       "      <th>SO2</th>\n",
       "      <th>Toluene</th>\n",
       "      <th>Date</th>\n",
       "    </tr>\n",
       "  </thead>\n",
       "  <tbody>\n",
       "    <tr>\n",
       "      <th>0</th>\n",
       "      <td>Delhi</td>\n",
       "      <td>23.2</td>\n",
       "      <td>33.2</td>\n",
       "      <td>10.2</td>\n",
       "      <td>4.2</td>\n",
       "      <td>10.4</td>\n",
       "      <td>52.0</td>\n",
       "      <td>13.0</td>\n",
       "      <td>20.0</td>\n",
       "      <td>89.0</td>\n",
       "      <td>2019</td>\n",
       "    </tr>\n",
       "  </tbody>\n",
       "</table>\n",
       "</div>"
      ],
      "text/plain": [
       "    City  PM2.5  PM10    NO  NO2   NOx   NH3    CO   SO2  Toluene  Date\n",
       "0  Delhi   23.2  33.2  10.2  4.2  10.4  52.0  13.0  20.0     89.0  2019"
      ]
     },
     "execution_count": 5,
     "metadata": {},
     "output_type": "execute_result"
    }
   ],
   "source": [
    "#replace date with only the year\n",
    "df['Date'] = df['Date'].dt.year\n",
    "df"
   ]
  },
  {
   "cell_type": "code",
   "execution_count": 6,
   "metadata": {},
   "outputs": [],
   "source": [
    "df.to_csv('test.csv', index=False)"
   ]
  },
  {
   "cell_type": "code",
   "execution_count": null,
   "metadata": {},
   "outputs": [],
   "source": [
    "import pandas as pd\n",
    "import argparse\n",
    "import pickle\n",
    "import logging\n",
    "import os\n",
    "\n",
    "# Configure logging\n",
    "logging.basicConfig(level=logging.INFO, format='%(asctime)s - %(levelname)s - %(message)s')\n",
    "\n",
    "def load_model(model_path):\n",
    "    with open(model_path, 'rb') as file:\n",
    "        model = pickle.load(file)\n",
    "    logging.info(f\"Model loaded from {model_path}\")\n",
    "    return model\n",
    "\n",
    "def load_data(data_path):\n",
    "    data = pd.read_csv(data_path)\n",
    "    logging.info(f\"Data loaded from {data_path} with shape {data.shape}\")\n",
    "    return data\n",
    "\n",
    "def predict(model, data):\n",
    "    try:\n",
    "        predictions = model.predict(data)\n",
    "        logging.info(\"Predictions completed.\")\n",
    "    except Exception as e:\n",
    "        logging.error(f\"Error during prediction: {e}\")\n",
    "        raise\n",
    "    return predictions\n",
    "\n",
    "def save_predictions(predictions, output_path):\n",
    "    predictions_df = pd.DataFrame(predictions, columns=[\"Prediction\"])\n",
    "    predictions_df.to_csv(output_path, index=False)\n",
    "    logging.info(f\"Predictions saved to {output_path}\")\n",
    "\n",
    "def main(model_path, data_path, output_path=\"predictions.csv\"):\n",
    "    # Load model and data\n",
    "    model = load_model(model_path)\n",
    "    data = load_data(data_path)\n",
    "\n",
    "    # Run predictions\n",
    "    predictions = predict(model, data)\n",
    "\n",
    "    # Save predictions\n",
    "    save_predictions(predictions, output_path)\n",
    "\n",
    "# Example usage (replace paths with your actual file paths)\n",
    "main('C:\\Users\\Sachit\\Documents\\Symbiosis\\Fourth Year\\Mlops\\codeRepo\\pymodels\\dectree_aqi_model.pkl', 'C:\\Users\\Sachit\\Documents\\Symbiosis\\Fourth Year\\Mlops\\codeRepo\\testcodes\\test.csv', 'predictions.csv')\n"
   ]
  }
 ],
 "metadata": {
  "kernelspec": {
   "display_name": "base",
   "language": "python",
   "name": "python3"
  },
  "language_info": {
   "codemirror_mode": {
    "name": "ipython",
    "version": 3
   },
   "file_extension": ".py",
   "mimetype": "text/x-python",
   "name": "python",
   "nbconvert_exporter": "python",
   "pygments_lexer": "ipython3",
   "version": "3.9.12"
  }
 },
 "nbformat": 4,
 "nbformat_minor": 2
}
